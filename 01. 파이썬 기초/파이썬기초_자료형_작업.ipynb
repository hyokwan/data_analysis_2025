{
  "nbformat": 4,
  "nbformat_minor": 0,
  "metadata": {
    "colab": {
      "provenance": []
    },
    "kernelspec": {
      "name": "python3",
      "display_name": "Python 3"
    },
    "language_info": {
      "name": "python"
    }
  },
  "cells": [
    {
      "cell_type": "markdown",
      "source": [
        "# 1. 자료형 기본"
      ],
      "metadata": {
        "id": "ec-YaqMC--NK"
      }
    },
    {
      "cell_type": "markdown",
      "source": [
        "### 변수 선언"
      ],
      "metadata": {
        "id": "YQ9Ai7ir_ZAZ"
      }
    },
    {
      "cell_type": "code",
      "source": [
        "a = 9000\n",
        "b = 300\n",
        "c = a - b\n",
        "c"
      ],
      "metadata": {
        "colab": {
          "base_uri": "https://localhost:8080/"
        },
        "id": "ZJ6Pcx5qE-v2",
        "outputId": "7a798203-b9ab-4267-8509-8bbc19ad97d4"
      },
      "execution_count": 102,
      "outputs": [
        {
          "output_type": "execute_result",
          "data": {
            "text/plain": [
              "8700"
            ]
          },
          "metadata": {},
          "execution_count": 102
        }
      ]
    },
    {
      "cell_type": "code",
      "source": [
        "# 변수명 시작은 숫자 불가능\n",
        "# 단어와 단어 사이에는 _ 또는 대문자로 구분\n",
        "# 2025price = 10"
      ],
      "metadata": {
        "id": "XfrZmd6rGHPt"
      },
      "execution_count": 103,
      "outputs": []
    },
    {
      "cell_type": "markdown",
      "source": [
        "### 1-1. 수"
      ],
      "metadata": {
        "id": "AqmSkT-LGWST"
      }
    },
    {
      "cell_type": "code",
      "source": [
        "intValueFirst = 10\n",
        "intValueSecond = 5.5"
      ],
      "metadata": {
        "id": "P7tlvwTnuWD-"
      },
      "execution_count": 104,
      "outputs": []
    },
    {
      "cell_type": "code",
      "source": [
        "sumValue = intValueFirst + intValueSecond\n",
        "minusValue = intValueFirst - intValueSecond\n",
        "multipleValue = intValueFirst * intValueSecond\n",
        "divisionValue = intValueFirst / intValueSecond\n",
        "print( sumValue )\n",
        "print( minusValue )"
      ],
      "metadata": {
        "colab": {
          "base_uri": "https://localhost:8080/"
        },
        "id": "_eNmJwuPHhKj",
        "outputId": "b11f8c05-9cc4-49ef-c519-99343623fb28"
      },
      "execution_count": 105,
      "outputs": [
        {
          "output_type": "stream",
          "name": "stdout",
          "text": [
            "15.5\n",
            "4.5\n"
          ]
        }
      ]
    },
    {
      "cell_type": "code",
      "source": [
        "# 나머지연산 (패턴 찾기)\n",
        "currentYearweek = 202504\n",
        "pattern = 3"
      ],
      "metadata": {
        "id": "ijAfa3d4HFrs"
      },
      "execution_count": 106,
      "outputs": []
    },
    {
      "cell_type": "code",
      "source": [
        "patternResult = currentYearweek % pattern\n",
        "patternResult"
      ],
      "metadata": {
        "colab": {
          "base_uri": "https://localhost:8080/"
        },
        "id": "hHnFp-SQKWhQ",
        "outputId": "eb022e8a-ffc1-47bb-8cb5-1b51008e2336"
      },
      "execution_count": 107,
      "outputs": [
        {
          "output_type": "execute_result",
          "data": {
            "text/plain": [
              "1"
            ]
          },
          "metadata": {},
          "execution_count": 107
        }
      ]
    },
    {
      "cell_type": "code",
      "source": [
        "# 현재 시간과 분을 선언한다\n",
        "currentHour = 8\n",
        "currentMin= 55\n",
        "# 현재 시간과 분을 더한다\n",
        "currentTime = currentHour + currentMin\n",
        "currentTime"
      ],
      "metadata": {
        "colab": {
          "base_uri": "https://localhost:8080/"
        },
        "id": "BqUSomTuHR71",
        "outputId": "89d3a780-d53a-4440-d1be-8f8036ed3306"
      },
      "execution_count": 108,
      "outputs": [
        {
          "output_type": "execute_result",
          "data": {
            "text/plain": [
              "63"
            ]
          },
          "metadata": {},
          "execution_count": 108
        }
      ]
    },
    {
      "cell_type": "code",
      "source": [
        "import datetime\n",
        "currentDate = datetime.datetime.now()\n",
        "currentHour = currentDate.hour"
      ],
      "metadata": {
        "id": "UOfZUaoBSOLz"
      },
      "execution_count": 109,
      "outputs": []
    },
    {
      "cell_type": "code",
      "source": [
        "weekValue = targetYearweek[4:]\n",
        "weekValue"
      ],
      "metadata": {
        "colab": {
          "base_uri": "https://localhost:8080/",
          "height": 36
        },
        "id": "1IpfY1tiTgqW",
        "outputId": "78cab153-4bf9-4c37-992e-6e9a7ff3f083"
      },
      "execution_count": 110,
      "outputs": [
        {
          "output_type": "execute_result",
          "data": {
            "text/plain": [
              "'W20'"
            ],
            "application/vnd.google.colaboratory.intrinsic+json": {
              "type": "string"
            }
          },
          "metadata": {},
          "execution_count": 110
        }
      ]
    },
    {
      "cell_type": "markdown",
      "source": [
        "### 1-2. 문자"
      ],
      "metadata": {
        "id": "7FuAAopoUBRt"
      }
    },
    {
      "cell_type": "code",
      "source": [
        "yearweekValue = \"202515\""
      ],
      "metadata": {
        "id": "T_hazv4RUClX"
      },
      "execution_count": 111,
      "outputs": []
    },
    {
      "cell_type": "code",
      "source": [
        "yearTerm = 4"
      ],
      "metadata": {
        "id": "uDKIyGC5VKGC"
      },
      "execution_count": 112,
      "outputs": []
    },
    {
      "cell_type": "code",
      "source": [
        "# 문자열 카운트 함수 (검색단어를 개수를 카운트)\n",
        "targetModel = \"LEDTV_LEDTV_UN42M001\"\n",
        "searchKey = \"LEDTV\""
      ],
      "metadata": {
        "id": "c03wLuStVgW4"
      },
      "execution_count": 113,
      "outputs": []
    },
    {
      "cell_type": "code",
      "source": [
        "targetModel.count(searchKey)"
      ],
      "metadata": {
        "colab": {
          "base_uri": "https://localhost:8080/"
        },
        "id": "hJb89tC0WZI1",
        "outputId": "168d99f4-32f0-46f0-8dfe-58b4cf6eb050"
      },
      "execution_count": 114,
      "outputs": [
        {
          "output_type": "execute_result",
          "data": {
            "text/plain": [
              "2"
            ]
          },
          "metadata": {},
          "execution_count": 114
        }
      ]
    },
    {
      "cell_type": "code",
      "source": [
        "yearweek = \"2025000000|42\"\n",
        "delimeterValue = \"|\"\n",
        "delimeterIndex = yearweek.index( delimeterValue )\n",
        "yearValue = yearweek[  : delimeterIndex ]\n",
        "weekValue = yearweek[  delimeterIndex+1 : ]\n",
        "print(yearValue)\n",
        "print(weekValue)"
      ],
      "metadata": {
        "colab": {
          "base_uri": "https://localhost:8080/"
        },
        "id": "Omu4x5ecWwZ4",
        "outputId": "8eb7334d-043f-4803-cf85-c7bc8a0684a1"
      },
      "execution_count": 115,
      "outputs": [
        {
          "output_type": "stream",
          "name": "stdout",
          "text": [
            "2025000000\n",
            "42\n"
          ]
        }
      ]
    },
    {
      "cell_type": "code",
      "source": [
        "## 대/소문자 구분하기"
      ],
      "metadata": {
        "id": "NodrffIpXWJV"
      },
      "execution_count": 116,
      "outputs": []
    },
    {
      "cell_type": "code",
      "source": [
        "yearweek = \"2025w42\"\n",
        "yearweek = yearweek.upper()\n",
        "delimeterValue = \"W\"\n",
        "delimeterIndex = yearweek.index( delimeterValue )\n",
        "yearValue = yearweek[  : delimeterIndex ]\n",
        "weekValue = yearweek[  delimeterIndex+1 : ]\n",
        "print(yearValue)\n",
        "print(weekValue)"
      ],
      "metadata": {
        "colab": {
          "base_uri": "https://localhost:8080/"
        },
        "id": "QfW5aVudXWGV",
        "outputId": "3fe672bd-4f63-42c1-f7f7-dac1adb62537"
      },
      "execution_count": 117,
      "outputs": [
        {
          "output_type": "stream",
          "name": "stdout",
          "text": [
            "2025\n",
            "42\n"
          ]
        }
      ]
    },
    {
      "cell_type": "code",
      "source": [
        "## 문자 치환하기 (replace)"
      ],
      "metadata": {
        "id": "2HyRhA6yYWC-"
      },
      "execution_count": 118,
      "outputs": []
    },
    {
      "cell_type": "code",
      "source": [
        "targetValue = \"오늘은 3/19일 입니다       오늘은 눈이     왔습니다\""
      ],
      "metadata": {
        "id": "mDFoQKQeYWAJ"
      },
      "execution_count": 119,
      "outputs": []
    },
    {
      "cell_type": "code",
      "source": [
        "targetValue = \"2025W01\""
      ],
      "metadata": {
        "id": "TocNJZWDZ_f0"
      },
      "execution_count": 120,
      "outputs": []
    },
    {
      "cell_type": "code",
      "source": [
        "targetValue = targetValue.replace(\"W\",\"_\")\n",
        "targetValue"
      ],
      "metadata": {
        "colab": {
          "base_uri": "https://localhost:8080/",
          "height": 36
        },
        "id": "bKr6IsfFZnHY",
        "outputId": "d65517a2-3c71-4f24-b50a-b20261bd5e51"
      },
      "execution_count": 121,
      "outputs": [
        {
          "output_type": "execute_result",
          "data": {
            "text/plain": [
              "'2025_01'"
            ],
            "application/vnd.google.colaboratory.intrinsic+json": {
              "type": "string"
            }
          },
          "metadata": {},
          "execution_count": 121
        }
      ]
    },
    {
      "cell_type": "code",
      "source": [
        "# 문자 분리하기 (split)\n",
        "targetYearweek = \"2025W20\"\n",
        "delimeter = \"W\"\n",
        "resultValue = targetYearweek.split(delimeter)"
      ],
      "metadata": {
        "id": "o4sV6J7FZnEG"
      },
      "execution_count": 122,
      "outputs": []
    },
    {
      "cell_type": "code",
      "source": [
        "# 문자 분리하기 (split)\n",
        "targetYearweek = \"2025W20\"\n",
        "delimeter = \"W\"\n",
        "resultValue = targetYearweek.split(delimeter)\n",
        "resultValue"
      ],
      "metadata": {
        "colab": {
          "base_uri": "https://localhost:8080/"
        },
        "id": "XVVlDldSanBL",
        "outputId": "4d69518c-9389-4df6-c7c7-4d34879eacdd"
      },
      "execution_count": 123,
      "outputs": [
        {
          "output_type": "execute_result",
          "data": {
            "text/plain": [
              "['2025', '20']"
            ]
          },
          "metadata": {},
          "execution_count": 123
        }
      ]
    },
    {
      "cell_type": "markdown",
      "source": [
        "### 1-3. 형변환"
      ],
      "metadata": {
        "id": "WP3gwY9ham-K"
      }
    },
    {
      "cell_type": "code",
      "source": [
        "float(5)"
      ],
      "metadata": {
        "colab": {
          "base_uri": "https://localhost:8080/"
        },
        "id": "ahcIKJ0mb__8",
        "outputId": "d3bf2b08-b622-471c-c60c-d0cf6a28df5a"
      },
      "execution_count": 124,
      "outputs": [
        {
          "output_type": "execute_result",
          "data": {
            "text/plain": [
              "5.0"
            ]
          },
          "metadata": {},
          "execution_count": 124
        }
      ]
    },
    {
      "cell_type": "code",
      "source": [
        "str( 2015222 )"
      ],
      "metadata": {
        "colab": {
          "base_uri": "https://localhost:8080/",
          "height": 36
        },
        "id": "1DaFONNzcNpI",
        "outputId": "99fea653-c472-4baf-fdee-d76cf478e201"
      },
      "execution_count": 125,
      "outputs": [
        {
          "output_type": "execute_result",
          "data": {
            "text/plain": [
              "'2015222'"
            ],
            "application/vnd.google.colaboratory.intrinsic+json": {
              "type": "string"
            }
          },
          "metadata": {},
          "execution_count": 125
        }
      ]
    },
    {
      "cell_type": "code",
      "source": [],
      "metadata": {
        "id": "7m6mu7mncNmD"
      },
      "execution_count": 125,
      "outputs": []
    },
    {
      "cell_type": "code",
      "source": [
        "inputValue = \"202501.2\""
      ],
      "metadata": {
        "id": "D4kt0frSbcXA"
      },
      "execution_count": 126,
      "outputs": []
    },
    {
      "cell_type": "markdown",
      "source": [
        "### 실습문제"
      ],
      "metadata": {
        "id": "68kPSJypbcUM"
      }
    },
    {
      "cell_type": "code",
      "source": [
        "inData = \"sec 20230212 250\"\n",
        "upperInData = inData.upper()\n",
        "\n",
        "splittedValue = upperInData.split(\" \")\n",
        "stock_name = splittedValue[0]\n",
        "date = splittedValue[1]\n",
        "value = splittedValue[2]\n",
        "print( f\"주식코드: {stock_name}, 일자: {date}, 거래량: {value}\" )"
      ],
      "metadata": {
        "colab": {
          "base_uri": "https://localhost:8080/"
        },
        "id": "g4kgjdgwgfgJ",
        "outputId": "34ac860b-af19-4d71-eb20-b30f50bb3e13"
      },
      "execution_count": 127,
      "outputs": [
        {
          "output_type": "stream",
          "name": "stdout",
          "text": [
            "주식코드: SEC, 일자: 20230212, 거래량: 250\n"
          ]
        }
      ]
    },
    {
      "cell_type": "code",
      "source": [
        "stockName = \"SEC\"\n",
        "strValue = \"20250319\""
      ],
      "metadata": {
        "id": "rmbxL755UYDH"
      },
      "execution_count": 128,
      "outputs": []
    },
    {
      "cell_type": "code",
      "source": [
        "stockName + \"_\" +  strValue"
      ],
      "metadata": {
        "colab": {
          "base_uri": "https://localhost:8080/",
          "height": 36
        },
        "id": "ddbEeJKnUGnQ",
        "outputId": "16469dfe-5aa3-4ef9-f070-90758393f1cc"
      },
      "execution_count": 129,
      "outputs": [
        {
          "output_type": "execute_result",
          "data": {
            "text/plain": [
              "'SEC_20250319'"
            ],
            "application/vnd.google.colaboratory.intrinsic+json": {
              "type": "string"
            }
          },
          "metadata": {},
          "execution_count": 129
        }
      ]
    },
    {
      "cell_type": "markdown",
      "source": [
        "### 1-4. 리스트"
      ],
      "metadata": {
        "id": "siDyOsAnUMqd"
      }
    },
    {
      "cell_type": "code",
      "source": [
        "emptyList = []"
      ],
      "metadata": {
        "id": "aikJ5lnbh6OY"
      },
      "execution_count": 130,
      "outputs": []
    },
    {
      "cell_type": "code",
      "source": [
        "priceList = [100, 200, 300, 400]\n",
        "# extraPriceList = [300,400]"
      ],
      "metadata": {
        "id": "e0xVNbKeh8TJ"
      },
      "execution_count": 131,
      "outputs": []
    },
    {
      "cell_type": "code",
      "source": [
        "# 1. 인덱스 계산!!\n",
        "# 2. 집합이라는것은 길이(len), 합(sum), 최대값(max), 최소값(min)"
      ],
      "metadata": {
        "id": "ogdt-podjBML"
      },
      "execution_count": 132,
      "outputs": []
    },
    {
      "cell_type": "code",
      "source": [
        "min( priceList )"
      ],
      "metadata": {
        "colab": {
          "base_uri": "https://localhost:8080/"
        },
        "id": "64XzqYFpjLqW",
        "outputId": "af22bced-0f5c-46c5-f641-b9eade2f15bd"
      },
      "execution_count": 133,
      "outputs": [
        {
          "output_type": "execute_result",
          "data": {
            "text/plain": [
              "100"
            ]
          },
          "metadata": {},
          "execution_count": 133
        }
      ]
    },
    {
      "cell_type": "code",
      "source": [
        "priceList = [100, 200, 300, 400]\n",
        "\n",
        "# 수정(update)\n",
        "updateValue = 9999\n",
        "priceList[0] = updateValue\n",
        "priceList\n",
        "# 삽입(insert, append)\n",
        "extraValue = 500\n",
        "priceList.append(extraValue)\n",
        "# 삭제 (delete)\n",
        "priceList.remove( updateValue )"
      ],
      "metadata": {
        "id": "GyICONa_jLnx"
      },
      "execution_count": 134,
      "outputs": []
    },
    {
      "cell_type": "code",
      "source": [
        "priceList = [500, 300, 400, 100, 100]"
      ],
      "metadata": {
        "id": "BsOz4E5BkHN7"
      },
      "execution_count": 135,
      "outputs": []
    },
    {
      "cell_type": "code",
      "source": [
        "priceList.count (100)"
      ],
      "metadata": {
        "colab": {
          "base_uri": "https://localhost:8080/"
        },
        "id": "m0-TXnrXleNx",
        "outputId": "47f0c32b-91cf-425d-b5fe-5b841410ca8e"
      },
      "execution_count": 136,
      "outputs": [
        {
          "output_type": "execute_result",
          "data": {
            "text/plain": [
              "2"
            ]
          },
          "metadata": {},
          "execution_count": 136
        }
      ]
    }
  ]
}