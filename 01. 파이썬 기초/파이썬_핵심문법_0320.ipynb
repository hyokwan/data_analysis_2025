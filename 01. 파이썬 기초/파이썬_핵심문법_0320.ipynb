{
  "nbformat": 4,
  "nbformat_minor": 0,
  "metadata": {
    "colab": {
      "provenance": []
    },
    "kernelspec": {
      "name": "python3",
      "display_name": "Python 3"
    },
    "language_info": {
      "name": "python"
    }
  },
  "cells": [
    {
      "cell_type": "code",
      "execution_count": 2,
      "metadata": {
        "colab": {
          "base_uri": "https://localhost:8080/"
        },
        "id": "b-N4pg5ABOa1",
        "outputId": "70f0db8b-e875-45ac-b5e4-6d6a1ec5504e"
      },
      "outputs": [
        {
          "output_type": "execute_result",
          "data": {
            "text/plain": [
              "int"
            ]
          },
          "metadata": {},
          "execution_count": 2
        }
      ],
      "source": [
        "a=10\n",
        "type(a)"
      ]
    },
    {
      "cell_type": "code",
      "source": [
        "strValue = \"10\"\n",
        "intValue = 3"
      ],
      "metadata": {
        "id": "nIan_PU0CPz9"
      },
      "execution_count": 3,
      "outputs": []
    },
    {
      "cell_type": "code",
      "source": [
        "strValue + intValue"
      ],
      "metadata": {
        "colab": {
          "base_uri": "https://localhost:8080/",
          "height": 147
        },
        "id": "3xUZN-KHCSXa",
        "outputId": "cc57b14e-e3a5-442a-c56d-2035d34004f5"
      },
      "execution_count": 5,
      "outputs": [
        {
          "output_type": "error",
          "ename": "TypeError",
          "evalue": "can only concatenate str (not \"int\") to str",
          "traceback": [
            "\u001b[0;31m---------------------------------------------------------------------------\u001b[0m",
            "\u001b[0;31mTypeError\u001b[0m                                 Traceback (most recent call last)",
            "\u001b[0;32m<ipython-input-5-333c1c9779cb>\u001b[0m in \u001b[0;36m<cell line: 0>\u001b[0;34m()\u001b[0m\n\u001b[0;32m----> 1\u001b[0;31m \u001b[0mstrValue\u001b[0m \u001b[0;34m+\u001b[0m \u001b[0mintValue\u001b[0m\u001b[0;34m\u001b[0m\u001b[0;34m\u001b[0m\u001b[0m\n\u001b[0m",
            "\u001b[0;31mTypeError\u001b[0m: can only concatenate str (not \"int\") to str"
          ]
        }
      ]
    },
    {
      "cell_type": "code",
      "source": [
        "yearweekValue = \"2024W25\""
      ],
      "metadata": {
        "id": "tcJ7cJfgCq2A"
      },
      "execution_count": 6,
      "outputs": []
    },
    {
      "cell_type": "code",
      "source": [
        "yearweekValue.split(\"W\")[0]"
      ],
      "metadata": {
        "colab": {
          "base_uri": "https://localhost:8080/",
          "height": 35
        },
        "id": "YcQ-l3kyCv0E",
        "outputId": "8058ceda-7bb9-4f92-b081-ef480bb4a8db"
      },
      "execution_count": 9,
      "outputs": [
        {
          "output_type": "execute_result",
          "data": {
            "text/plain": [
              "'2024'"
            ],
            "application/vnd.google.colaboratory.intrinsic+json": {
              "type": "string"
            }
          },
          "metadata": {},
          "execution_count": 9
        }
      ]
    },
    {
      "cell_type": "code",
      "source": [
        "yearweekValue[0:4]"
      ],
      "metadata": {
        "colab": {
          "base_uri": "https://localhost:8080/",
          "height": 35
        },
        "id": "abMlr8LmCtW1",
        "outputId": "44ae4748-62a5-486e-b27a-7b1e6b9c26ec"
      },
      "execution_count": 7,
      "outputs": [
        {
          "output_type": "execute_result",
          "data": {
            "text/plain": [
              "'2024'"
            ],
            "application/vnd.google.colaboratory.intrinsic+json": {
              "type": "string"
            }
          },
          "metadata": {},
          "execution_count": 7
        }
      ]
    },
    {
      "cell_type": "code",
      "source": [
        "import pandas as pd\n",
        "csDataPath = \"https://raw.githubusercontent.com/hyokwan/python-lecture/refs/heads/master/dataset/kopo_customerdata.csv\"\n",
        "customerData = pd.read_csv(csDataPath)\n",
        "totalAmtList = list( customerData.TOTAL_AMOUNT )"
      ],
      "metadata": {
        "id": "ZbZFuMLIGFni"
      },
      "execution_count": 22,
      "outputs": []
    },
    {
      "cell_type": "code",
      "source": [
        "# STEP1: 리스트를 정의한다\n",
        "totalAmtList = list( customerData.TOTAL_AMOUNT )\n",
        "# STEP2: 최소값 / 최대값을 산출한다\n",
        "minValue = min(totalAmtList)\n",
        "maxValue = max(totalAmtList)\n",
        "print( f\"최소값: {minValue} 최대값: {maxValue}\")\n",
        "# STEP3: 최소값 / 최대값 개수를 산출한다.\n",
        "minValueCnt = totalAmtList.count(minValue)\n",
        "maxValueCnt = totalAmtList.count(maxValue)\n",
        "print( f\"최소값 개수: {minValueCnt} 최대값 개수: {maxValueCnt}\")\n",
        "# STEP4: 평균\n",
        "#        분자: 전체합 - (최대값*최대값개수+최소값*최소값개수)\n",
        "#        /\n",
        "#        분모: 전체개수 - (최대값개수 + 최소값개수)\n",
        "bunja = sum(totalAmtList) - (maxValue*maxValueCnt + minValue*minValueCnt)\n",
        "bunmo = len(totalAmtList) - (maxValueCnt + minValueCnt)\n",
        "avgResult = bunja / bunmo\n",
        "avgResult"
      ],
      "metadata": {
        "colab": {
          "base_uri": "https://localhost:8080/"
        },
        "id": "BFBlZXvED1q-",
        "outputId": "4de0be86-cb6e-4269-e4f6-fc7ff1565efb"
      },
      "execution_count": 28,
      "outputs": [
        {
          "output_type": "stream",
          "name": "stdout",
          "text": [
            "최소값: 0 최대값: 3103500\n",
            "최소값 개수: 256 최대값 개수: 1\n"
          ]
        },
        {
          "output_type": "execute_result",
          "data": {
            "text/plain": [
              "35248.91490376756"
            ]
          },
          "metadata": {},
          "execution_count": 28
        }
      ]
    },
    {
      "cell_type": "code",
      "source": [
        "import pandas as pd\n",
        "csDataPath = \"https://raw.githubusercontent.com/hyokwan/python-lecture/refs/heads/master/dataset/kopo_customerdata.csv\"\n",
        "customerData = pd.read_csv(csDataPath)\n",
        "customerData"
      ],
      "metadata": {
        "colab": {
          "base_uri": "https://localhost:8080/",
          "height": 444
        },
        "id": "ZOKe86ZXDL8E",
        "outputId": "58291fa1-1332-4931-8d75-c9b1aaa018a7"
      },
      "execution_count": 14,
      "outputs": [
        {
          "output_type": "execute_result",
          "data": {
            "text/plain": [
              "        CUSTOMERCODE STATENAME  ST  GENDER  DOB  GENDER1  EMAIL  FEST_CNT  \\\n",
              "0            1503989    State2   2    Male    0        1      1         0   \n",
              "1            1190338    State2   2    Male    0        1      0         1   \n",
              "2            1424715    State2   2  Female    0        2      0         0   \n",
              "3            2483305    State2   2    Male    0        1      0         1   \n",
              "4            1178802    State2   2    Male    0        1      0         1   \n",
              "...              ...       ...  ..     ...  ...      ...    ...       ...   \n",
              "299995        465757    State1   1    Male    0        1      0         0   \n",
              "299996       1890264    State1   1    Male    0        1      0         1   \n",
              "299997       1857537    State1   1  Female    0        2      0         0   \n",
              "299998       2209324    State1   1    Male    0        1      0         1   \n",
              "299999       1875146    State1   1    Male    0        1      0         1   \n",
              "\n",
              "        TOTAL_AMOUNT  AC_AMOUNT  AV_AMOUNT  HA_AMOUNT  EMI_CE_AMOUNT  \\\n",
              "0              30300          0      30300          0              0   \n",
              "1              46500          0      46500          0              0   \n",
              "2              22700          0          0      22700              0   \n",
              "3              31400          0      31400          0              0   \n",
              "4              44900          0          0      44900              0   \n",
              "...              ...        ...        ...        ...            ...   \n",
              "299995         40600          0      40600          0              0   \n",
              "299996         48000      48000          0          0              0   \n",
              "299997         32300          0          0      32300              0   \n",
              "299998         48500          0      48500          0              0   \n",
              "299999         16500          0          0      16500              0   \n",
              "\n",
              "        IS_HIGHEND  CNT_VIST  GAP_VISIT  \n",
              "0                0         1          0  \n",
              "1                0         1          0  \n",
              "2                0         1          0  \n",
              "3                0         1          0  \n",
              "4                0         1          0  \n",
              "...            ...       ...        ...  \n",
              "299995           0         1          0  \n",
              "299996           0         1          0  \n",
              "299997           0         1          0  \n",
              "299998           0         1          0  \n",
              "299999           0         1          0  \n",
              "\n",
              "[300000 rows x 16 columns]"
            ],
            "text/html": [
              "\n",
              "  <div id=\"df-9963c624-a70d-44d7-a4d4-0b2a51351d1a\" class=\"colab-df-container\">\n",
              "    <div>\n",
              "<style scoped>\n",
              "    .dataframe tbody tr th:only-of-type {\n",
              "        vertical-align: middle;\n",
              "    }\n",
              "\n",
              "    .dataframe tbody tr th {\n",
              "        vertical-align: top;\n",
              "    }\n",
              "\n",
              "    .dataframe thead th {\n",
              "        text-align: right;\n",
              "    }\n",
              "</style>\n",
              "<table border=\"1\" class=\"dataframe\">\n",
              "  <thead>\n",
              "    <tr style=\"text-align: right;\">\n",
              "      <th></th>\n",
              "      <th>CUSTOMERCODE</th>\n",
              "      <th>STATENAME</th>\n",
              "      <th>ST</th>\n",
              "      <th>GENDER</th>\n",
              "      <th>DOB</th>\n",
              "      <th>GENDER1</th>\n",
              "      <th>EMAIL</th>\n",
              "      <th>FEST_CNT</th>\n",
              "      <th>TOTAL_AMOUNT</th>\n",
              "      <th>AC_AMOUNT</th>\n",
              "      <th>AV_AMOUNT</th>\n",
              "      <th>HA_AMOUNT</th>\n",
              "      <th>EMI_CE_AMOUNT</th>\n",
              "      <th>IS_HIGHEND</th>\n",
              "      <th>CNT_VIST</th>\n",
              "      <th>GAP_VISIT</th>\n",
              "    </tr>\n",
              "  </thead>\n",
              "  <tbody>\n",
              "    <tr>\n",
              "      <th>0</th>\n",
              "      <td>1503989</td>\n",
              "      <td>State2</td>\n",
              "      <td>2</td>\n",
              "      <td>Male</td>\n",
              "      <td>0</td>\n",
              "      <td>1</td>\n",
              "      <td>1</td>\n",
              "      <td>0</td>\n",
              "      <td>30300</td>\n",
              "      <td>0</td>\n",
              "      <td>30300</td>\n",
              "      <td>0</td>\n",
              "      <td>0</td>\n",
              "      <td>0</td>\n",
              "      <td>1</td>\n",
              "      <td>0</td>\n",
              "    </tr>\n",
              "    <tr>\n",
              "      <th>1</th>\n",
              "      <td>1190338</td>\n",
              "      <td>State2</td>\n",
              "      <td>2</td>\n",
              "      <td>Male</td>\n",
              "      <td>0</td>\n",
              "      <td>1</td>\n",
              "      <td>0</td>\n",
              "      <td>1</td>\n",
              "      <td>46500</td>\n",
              "      <td>0</td>\n",
              "      <td>46500</td>\n",
              "      <td>0</td>\n",
              "      <td>0</td>\n",
              "      <td>0</td>\n",
              "      <td>1</td>\n",
              "      <td>0</td>\n",
              "    </tr>\n",
              "    <tr>\n",
              "      <th>2</th>\n",
              "      <td>1424715</td>\n",
              "      <td>State2</td>\n",
              "      <td>2</td>\n",
              "      <td>Female</td>\n",
              "      <td>0</td>\n",
              "      <td>2</td>\n",
              "      <td>0</td>\n",
              "      <td>0</td>\n",
              "      <td>22700</td>\n",
              "      <td>0</td>\n",
              "      <td>0</td>\n",
              "      <td>22700</td>\n",
              "      <td>0</td>\n",
              "      <td>0</td>\n",
              "      <td>1</td>\n",
              "      <td>0</td>\n",
              "    </tr>\n",
              "    <tr>\n",
              "      <th>3</th>\n",
              "      <td>2483305</td>\n",
              "      <td>State2</td>\n",
              "      <td>2</td>\n",
              "      <td>Male</td>\n",
              "      <td>0</td>\n",
              "      <td>1</td>\n",
              "      <td>0</td>\n",
              "      <td>1</td>\n",
              "      <td>31400</td>\n",
              "      <td>0</td>\n",
              "      <td>31400</td>\n",
              "      <td>0</td>\n",
              "      <td>0</td>\n",
              "      <td>0</td>\n",
              "      <td>1</td>\n",
              "      <td>0</td>\n",
              "    </tr>\n",
              "    <tr>\n",
              "      <th>4</th>\n",
              "      <td>1178802</td>\n",
              "      <td>State2</td>\n",
              "      <td>2</td>\n",
              "      <td>Male</td>\n",
              "      <td>0</td>\n",
              "      <td>1</td>\n",
              "      <td>0</td>\n",
              "      <td>1</td>\n",
              "      <td>44900</td>\n",
              "      <td>0</td>\n",
              "      <td>0</td>\n",
              "      <td>44900</td>\n",
              "      <td>0</td>\n",
              "      <td>0</td>\n",
              "      <td>1</td>\n",
              "      <td>0</td>\n",
              "    </tr>\n",
              "    <tr>\n",
              "      <th>...</th>\n",
              "      <td>...</td>\n",
              "      <td>...</td>\n",
              "      <td>...</td>\n",
              "      <td>...</td>\n",
              "      <td>...</td>\n",
              "      <td>...</td>\n",
              "      <td>...</td>\n",
              "      <td>...</td>\n",
              "      <td>...</td>\n",
              "      <td>...</td>\n",
              "      <td>...</td>\n",
              "      <td>...</td>\n",
              "      <td>...</td>\n",
              "      <td>...</td>\n",
              "      <td>...</td>\n",
              "      <td>...</td>\n",
              "    </tr>\n",
              "    <tr>\n",
              "      <th>299995</th>\n",
              "      <td>465757</td>\n",
              "      <td>State1</td>\n",
              "      <td>1</td>\n",
              "      <td>Male</td>\n",
              "      <td>0</td>\n",
              "      <td>1</td>\n",
              "      <td>0</td>\n",
              "      <td>0</td>\n",
              "      <td>40600</td>\n",
              "      <td>0</td>\n",
              "      <td>40600</td>\n",
              "      <td>0</td>\n",
              "      <td>0</td>\n",
              "      <td>0</td>\n",
              "      <td>1</td>\n",
              "      <td>0</td>\n",
              "    </tr>\n",
              "    <tr>\n",
              "      <th>299996</th>\n",
              "      <td>1890264</td>\n",
              "      <td>State1</td>\n",
              "      <td>1</td>\n",
              "      <td>Male</td>\n",
              "      <td>0</td>\n",
              "      <td>1</td>\n",
              "      <td>0</td>\n",
              "      <td>1</td>\n",
              "      <td>48000</td>\n",
              "      <td>48000</td>\n",
              "      <td>0</td>\n",
              "      <td>0</td>\n",
              "      <td>0</td>\n",
              "      <td>0</td>\n",
              "      <td>1</td>\n",
              "      <td>0</td>\n",
              "    </tr>\n",
              "    <tr>\n",
              "      <th>299997</th>\n",
              "      <td>1857537</td>\n",
              "      <td>State1</td>\n",
              "      <td>1</td>\n",
              "      <td>Female</td>\n",
              "      <td>0</td>\n",
              "      <td>2</td>\n",
              "      <td>0</td>\n",
              "      <td>0</td>\n",
              "      <td>32300</td>\n",
              "      <td>0</td>\n",
              "      <td>0</td>\n",
              "      <td>32300</td>\n",
              "      <td>0</td>\n",
              "      <td>0</td>\n",
              "      <td>1</td>\n",
              "      <td>0</td>\n",
              "    </tr>\n",
              "    <tr>\n",
              "      <th>299998</th>\n",
              "      <td>2209324</td>\n",
              "      <td>State1</td>\n",
              "      <td>1</td>\n",
              "      <td>Male</td>\n",
              "      <td>0</td>\n",
              "      <td>1</td>\n",
              "      <td>0</td>\n",
              "      <td>1</td>\n",
              "      <td>48500</td>\n",
              "      <td>0</td>\n",
              "      <td>48500</td>\n",
              "      <td>0</td>\n",
              "      <td>0</td>\n",
              "      <td>0</td>\n",
              "      <td>1</td>\n",
              "      <td>0</td>\n",
              "    </tr>\n",
              "    <tr>\n",
              "      <th>299999</th>\n",
              "      <td>1875146</td>\n",
              "      <td>State1</td>\n",
              "      <td>1</td>\n",
              "      <td>Male</td>\n",
              "      <td>0</td>\n",
              "      <td>1</td>\n",
              "      <td>0</td>\n",
              "      <td>1</td>\n",
              "      <td>16500</td>\n",
              "      <td>0</td>\n",
              "      <td>0</td>\n",
              "      <td>16500</td>\n",
              "      <td>0</td>\n",
              "      <td>0</td>\n",
              "      <td>1</td>\n",
              "      <td>0</td>\n",
              "    </tr>\n",
              "  </tbody>\n",
              "</table>\n",
              "<p>300000 rows × 16 columns</p>\n",
              "</div>\n",
              "    <div class=\"colab-df-buttons\">\n",
              "\n",
              "  <div class=\"colab-df-container\">\n",
              "    <button class=\"colab-df-convert\" onclick=\"convertToInteractive('df-9963c624-a70d-44d7-a4d4-0b2a51351d1a')\"\n",
              "            title=\"Convert this dataframe to an interactive table.\"\n",
              "            style=\"display:none;\">\n",
              "\n",
              "  <svg xmlns=\"http://www.w3.org/2000/svg\" height=\"24px\" viewBox=\"0 -960 960 960\">\n",
              "    <path d=\"M120-120v-720h720v720H120Zm60-500h600v-160H180v160Zm220 220h160v-160H400v160Zm0 220h160v-160H400v160ZM180-400h160v-160H180v160Zm440 0h160v-160H620v160ZM180-180h160v-160H180v160Zm440 0h160v-160H620v160Z\"/>\n",
              "  </svg>\n",
              "    </button>\n",
              "\n",
              "  <style>\n",
              "    .colab-df-container {\n",
              "      display:flex;\n",
              "      gap: 12px;\n",
              "    }\n",
              "\n",
              "    .colab-df-convert {\n",
              "      background-color: #E8F0FE;\n",
              "      border: none;\n",
              "      border-radius: 50%;\n",
              "      cursor: pointer;\n",
              "      display: none;\n",
              "      fill: #1967D2;\n",
              "      height: 32px;\n",
              "      padding: 0 0 0 0;\n",
              "      width: 32px;\n",
              "    }\n",
              "\n",
              "    .colab-df-convert:hover {\n",
              "      background-color: #E2EBFA;\n",
              "      box-shadow: 0px 1px 2px rgba(60, 64, 67, 0.3), 0px 1px 3px 1px rgba(60, 64, 67, 0.15);\n",
              "      fill: #174EA6;\n",
              "    }\n",
              "\n",
              "    .colab-df-buttons div {\n",
              "      margin-bottom: 4px;\n",
              "    }\n",
              "\n",
              "    [theme=dark] .colab-df-convert {\n",
              "      background-color: #3B4455;\n",
              "      fill: #D2E3FC;\n",
              "    }\n",
              "\n",
              "    [theme=dark] .colab-df-convert:hover {\n",
              "      background-color: #434B5C;\n",
              "      box-shadow: 0px 1px 3px 1px rgba(0, 0, 0, 0.15);\n",
              "      filter: drop-shadow(0px 1px 2px rgba(0, 0, 0, 0.3));\n",
              "      fill: #FFFFFF;\n",
              "    }\n",
              "  </style>\n",
              "\n",
              "    <script>\n",
              "      const buttonEl =\n",
              "        document.querySelector('#df-9963c624-a70d-44d7-a4d4-0b2a51351d1a button.colab-df-convert');\n",
              "      buttonEl.style.display =\n",
              "        google.colab.kernel.accessAllowed ? 'block' : 'none';\n",
              "\n",
              "      async function convertToInteractive(key) {\n",
              "        const element = document.querySelector('#df-9963c624-a70d-44d7-a4d4-0b2a51351d1a');\n",
              "        const dataTable =\n",
              "          await google.colab.kernel.invokeFunction('convertToInteractive',\n",
              "                                                    [key], {});\n",
              "        if (!dataTable) return;\n",
              "\n",
              "        const docLinkHtml = 'Like what you see? Visit the ' +\n",
              "          '<a target=\"_blank\" href=https://colab.research.google.com/notebooks/data_table.ipynb>data table notebook</a>'\n",
              "          + ' to learn more about interactive tables.';\n",
              "        element.innerHTML = '';\n",
              "        dataTable['output_type'] = 'display_data';\n",
              "        await google.colab.output.renderOutput(dataTable, element);\n",
              "        const docLink = document.createElement('div');\n",
              "        docLink.innerHTML = docLinkHtml;\n",
              "        element.appendChild(docLink);\n",
              "      }\n",
              "    </script>\n",
              "  </div>\n",
              "\n",
              "\n",
              "<div id=\"df-df1920f1-8d10-4f34-b70e-f0e642501cd1\">\n",
              "  <button class=\"colab-df-quickchart\" onclick=\"quickchart('df-df1920f1-8d10-4f34-b70e-f0e642501cd1')\"\n",
              "            title=\"Suggest charts\"\n",
              "            style=\"display:none;\">\n",
              "\n",
              "<svg xmlns=\"http://www.w3.org/2000/svg\" height=\"24px\"viewBox=\"0 0 24 24\"\n",
              "     width=\"24px\">\n",
              "    <g>\n",
              "        <path d=\"M19 3H5c-1.1 0-2 .9-2 2v14c0 1.1.9 2 2 2h14c1.1 0 2-.9 2-2V5c0-1.1-.9-2-2-2zM9 17H7v-7h2v7zm4 0h-2V7h2v10zm4 0h-2v-4h2v4z\"/>\n",
              "    </g>\n",
              "</svg>\n",
              "  </button>\n",
              "\n",
              "<style>\n",
              "  .colab-df-quickchart {\n",
              "      --bg-color: #E8F0FE;\n",
              "      --fill-color: #1967D2;\n",
              "      --hover-bg-color: #E2EBFA;\n",
              "      --hover-fill-color: #174EA6;\n",
              "      --disabled-fill-color: #AAA;\n",
              "      --disabled-bg-color: #DDD;\n",
              "  }\n",
              "\n",
              "  [theme=dark] .colab-df-quickchart {\n",
              "      --bg-color: #3B4455;\n",
              "      --fill-color: #D2E3FC;\n",
              "      --hover-bg-color: #434B5C;\n",
              "      --hover-fill-color: #FFFFFF;\n",
              "      --disabled-bg-color: #3B4455;\n",
              "      --disabled-fill-color: #666;\n",
              "  }\n",
              "\n",
              "  .colab-df-quickchart {\n",
              "    background-color: var(--bg-color);\n",
              "    border: none;\n",
              "    border-radius: 50%;\n",
              "    cursor: pointer;\n",
              "    display: none;\n",
              "    fill: var(--fill-color);\n",
              "    height: 32px;\n",
              "    padding: 0;\n",
              "    width: 32px;\n",
              "  }\n",
              "\n",
              "  .colab-df-quickchart:hover {\n",
              "    background-color: var(--hover-bg-color);\n",
              "    box-shadow: 0 1px 2px rgba(60, 64, 67, 0.3), 0 1px 3px 1px rgba(60, 64, 67, 0.15);\n",
              "    fill: var(--button-hover-fill-color);\n",
              "  }\n",
              "\n",
              "  .colab-df-quickchart-complete:disabled,\n",
              "  .colab-df-quickchart-complete:disabled:hover {\n",
              "    background-color: var(--disabled-bg-color);\n",
              "    fill: var(--disabled-fill-color);\n",
              "    box-shadow: none;\n",
              "  }\n",
              "\n",
              "  .colab-df-spinner {\n",
              "    border: 2px solid var(--fill-color);\n",
              "    border-color: transparent;\n",
              "    border-bottom-color: var(--fill-color);\n",
              "    animation:\n",
              "      spin 1s steps(1) infinite;\n",
              "  }\n",
              "\n",
              "  @keyframes spin {\n",
              "    0% {\n",
              "      border-color: transparent;\n",
              "      border-bottom-color: var(--fill-color);\n",
              "      border-left-color: var(--fill-color);\n",
              "    }\n",
              "    20% {\n",
              "      border-color: transparent;\n",
              "      border-left-color: var(--fill-color);\n",
              "      border-top-color: var(--fill-color);\n",
              "    }\n",
              "    30% {\n",
              "      border-color: transparent;\n",
              "      border-left-color: var(--fill-color);\n",
              "      border-top-color: var(--fill-color);\n",
              "      border-right-color: var(--fill-color);\n",
              "    }\n",
              "    40% {\n",
              "      border-color: transparent;\n",
              "      border-right-color: var(--fill-color);\n",
              "      border-top-color: var(--fill-color);\n",
              "    }\n",
              "    60% {\n",
              "      border-color: transparent;\n",
              "      border-right-color: var(--fill-color);\n",
              "    }\n",
              "    80% {\n",
              "      border-color: transparent;\n",
              "      border-right-color: var(--fill-color);\n",
              "      border-bottom-color: var(--fill-color);\n",
              "    }\n",
              "    90% {\n",
              "      border-color: transparent;\n",
              "      border-bottom-color: var(--fill-color);\n",
              "    }\n",
              "  }\n",
              "</style>\n",
              "\n",
              "  <script>\n",
              "    async function quickchart(key) {\n",
              "      const quickchartButtonEl =\n",
              "        document.querySelector('#' + key + ' button');\n",
              "      quickchartButtonEl.disabled = true;  // To prevent multiple clicks.\n",
              "      quickchartButtonEl.classList.add('colab-df-spinner');\n",
              "      try {\n",
              "        const charts = await google.colab.kernel.invokeFunction(\n",
              "            'suggestCharts', [key], {});\n",
              "      } catch (error) {\n",
              "        console.error('Error during call to suggestCharts:', error);\n",
              "      }\n",
              "      quickchartButtonEl.classList.remove('colab-df-spinner');\n",
              "      quickchartButtonEl.classList.add('colab-df-quickchart-complete');\n",
              "    }\n",
              "    (() => {\n",
              "      let quickchartButtonEl =\n",
              "        document.querySelector('#df-df1920f1-8d10-4f34-b70e-f0e642501cd1 button');\n",
              "      quickchartButtonEl.style.display =\n",
              "        google.colab.kernel.accessAllowed ? 'block' : 'none';\n",
              "    })();\n",
              "  </script>\n",
              "</div>\n",
              "\n",
              "  <div id=\"id_8d9cc5ad-26e2-439b-b5e2-cd2fb4d072ed\">\n",
              "    <style>\n",
              "      .colab-df-generate {\n",
              "        background-color: #E8F0FE;\n",
              "        border: none;\n",
              "        border-radius: 50%;\n",
              "        cursor: pointer;\n",
              "        display: none;\n",
              "        fill: #1967D2;\n",
              "        height: 32px;\n",
              "        padding: 0 0 0 0;\n",
              "        width: 32px;\n",
              "      }\n",
              "\n",
              "      .colab-df-generate:hover {\n",
              "        background-color: #E2EBFA;\n",
              "        box-shadow: 0px 1px 2px rgba(60, 64, 67, 0.3), 0px 1px 3px 1px rgba(60, 64, 67, 0.15);\n",
              "        fill: #174EA6;\n",
              "      }\n",
              "\n",
              "      [theme=dark] .colab-df-generate {\n",
              "        background-color: #3B4455;\n",
              "        fill: #D2E3FC;\n",
              "      }\n",
              "\n",
              "      [theme=dark] .colab-df-generate:hover {\n",
              "        background-color: #434B5C;\n",
              "        box-shadow: 0px 1px 3px 1px rgba(0, 0, 0, 0.15);\n",
              "        filter: drop-shadow(0px 1px 2px rgba(0, 0, 0, 0.3));\n",
              "        fill: #FFFFFF;\n",
              "      }\n",
              "    </style>\n",
              "    <button class=\"colab-df-generate\" onclick=\"generateWithVariable('customerData')\"\n",
              "            title=\"Generate code using this dataframe.\"\n",
              "            style=\"display:none;\">\n",
              "\n",
              "  <svg xmlns=\"http://www.w3.org/2000/svg\" height=\"24px\"viewBox=\"0 0 24 24\"\n",
              "       width=\"24px\">\n",
              "    <path d=\"M7,19H8.4L18.45,9,17,7.55,7,17.6ZM5,21V16.75L18.45,3.32a2,2,0,0,1,2.83,0l1.4,1.43a1.91,1.91,0,0,1,.58,1.4,1.91,1.91,0,0,1-.58,1.4L9.25,21ZM18.45,9,17,7.55Zm-12,3A5.31,5.31,0,0,0,4.9,8.1,5.31,5.31,0,0,0,1,6.5,5.31,5.31,0,0,0,4.9,4.9,5.31,5.31,0,0,0,6.5,1,5.31,5.31,0,0,0,8.1,4.9,5.31,5.31,0,0,0,12,6.5,5.46,5.46,0,0,0,6.5,12Z\"/>\n",
              "  </svg>\n",
              "    </button>\n",
              "    <script>\n",
              "      (() => {\n",
              "      const buttonEl =\n",
              "        document.querySelector('#id_8d9cc5ad-26e2-439b-b5e2-cd2fb4d072ed button.colab-df-generate');\n",
              "      buttonEl.style.display =\n",
              "        google.colab.kernel.accessAllowed ? 'block' : 'none';\n",
              "\n",
              "      buttonEl.onclick = () => {\n",
              "        google.colab.notebook.generateWithVariable('customerData');\n",
              "      }\n",
              "      })();\n",
              "    </script>\n",
              "  </div>\n",
              "\n",
              "    </div>\n",
              "  </div>\n"
            ],
            "application/vnd.google.colaboratory.intrinsic+json": {
              "type": "dataframe",
              "variable_name": "customerData"
            }
          },
          "metadata": {},
          "execution_count": 14
        }
      ]
    },
    {
      "cell_type": "markdown",
      "source": [
        "# 핵심문법"
      ],
      "metadata": {
        "id": "ei7y_a-AIhNh"
      }
    },
    {
      "cell_type": "markdown",
      "source": [
        "### 1-1. 반복문"
      ],
      "metadata": {
        "id": "eZudXjXKIiNE"
      }
    },
    {
      "cell_type": "code",
      "source": [
        "# productList[0] = preFix + productList[0]\n",
        "# productList[1] = preFix + productList[1]\n",
        "# productList[2] = preFix + productList[2]\n",
        "# productList[3] = preFix + productList[3]"
      ],
      "metadata": {
        "id": "ef8XtGYZS9K7"
      },
      "execution_count": 61,
      "outputs": []
    },
    {
      "cell_type": "code",
      "source": [
        "productList = [\"UN42M001\",\"UN42M002\",\"UN42M003\",\"UN42M004\",\"UN42M005\"]\n",
        "preFix = \"LEDTV_\"\n",
        "\n",
        "for i in range(0, len(productList) ):\n",
        "    productList[i] = preFix + productList[i]\n",
        "productList"
      ],
      "metadata": {
        "colab": {
          "base_uri": "https://localhost:8080/"
        },
        "id": "Z6CnqyW4Phnt",
        "outputId": "7ba58813-cfa1-4723-aa0e-bf05a0895c1e"
      },
      "execution_count": 60,
      "outputs": [
        {
          "output_type": "execute_result",
          "data": {
            "text/plain": [
              "['LEDTV_UN42M001',\n",
              " 'LEDTV_UN42M002',\n",
              " 'LEDTV_UN42M003',\n",
              " 'LEDTV_UN42M004',\n",
              " 'LEDTV_UN42M005']"
            ]
          },
          "metadata": {},
          "execution_count": 60
        }
      ]
    },
    {
      "cell_type": "code",
      "source": [
        "productList = [\"UN42M001\",\"UN42M002\",\"UN42M003\",\"UN42M004\",\"UN42M005\"]\n",
        "preFix = \"LEDTV_\"\n",
        "i = 0\n",
        "while i < len(productList) :\n",
        "    productList[i] = preFix + productList[i]\n",
        "    i = i + 1\n",
        "productList"
      ],
      "metadata": {
        "colab": {
          "base_uri": "https://localhost:8080/"
        },
        "id": "5jgU8EwVOtch",
        "outputId": "e6770ff4-dea4-40ef-b0b0-044597ec1333"
      },
      "execution_count": 54,
      "outputs": [
        {
          "output_type": "execute_result",
          "data": {
            "text/plain": [
              "['LEDTV_UN42M001',\n",
              " 'LEDTV_UN42M002',\n",
              " 'LEDTV_UN42M003',\n",
              " 'LEDTV_UN42M004',\n",
              " 'LEDTV_UN42M005']"
            ]
          },
          "metadata": {},
          "execution_count": 54
        }
      ]
    },
    {
      "cell_type": "markdown",
      "source": [
        "### 1-2. 조건문"
      ],
      "metadata": {
        "id": "70dYFgaXOtZo"
      }
    },
    {
      "cell_type": "code",
      "source": [],
      "metadata": {
        "id": "DRfCcKj_Tsxk"
      },
      "execution_count": 68,
      "outputs": []
    },
    {
      "cell_type": "code",
      "source": [],
      "metadata": {
        "id": "ZtY8nYD-Tu1C"
      },
      "execution_count": null,
      "outputs": []
    },
    {
      "cell_type": "code",
      "source": [
        "targetModel = \"UN42M001\"\n",
        "preFix = \"LEDTV_\"\n",
        "\n",
        "# targetModel.count(preFix)\n",
        "# 존재하지 않으면 (count==0) 접두어 붙임\n",
        "if targetModel.count(preFix) == 0:\n",
        "    targetModel = preFix + targetModel\n",
        "# 존재하는 경우 pass\n",
        "else:\n",
        "    pass\n",
        "targetModel"
      ],
      "metadata": {
        "colab": {
          "base_uri": "https://localhost:8080/",
          "height": 35
        },
        "id": "ZqvQyIpsOtW8",
        "outputId": "4c952a8a-1c53-4a8f-b0df-e66b38d952e0"
      },
      "execution_count": 71,
      "outputs": [
        {
          "output_type": "execute_result",
          "data": {
            "text/plain": [
              "'LEDTV_UN42M001'"
            ],
            "application/vnd.google.colaboratory.intrinsic+json": {
              "type": "string"
            }
          },
          "metadata": {},
          "execution_count": 71
        }
      ]
    },
    {
      "cell_type": "code",
      "source": [],
      "metadata": {
        "id": "3hibodfPUpEp"
      },
      "execution_count": null,
      "outputs": []
    },
    {
      "cell_type": "code",
      "source": [
        "productList = [\"LEDTV_UN42M001\",\"LEDTV_LEDTV_UN42M002\",\"UN42M003\",\"UN42M004\",\"UN42M005\"]\n",
        "preFix = \"LEDTV_\"\n",
        "\n",
        "for i in range(0, len(productList) ):\n",
        "    productList[i] = preFix + productList[i]\n",
        "productList"
      ],
      "metadata": {
        "colab": {
          "base_uri": "https://localhost:8080/"
        },
        "id": "ON-rsJJmUpB3",
        "outputId": "2b2a26e3-e6f2-435f-a146-391ee5cc6be0"
      },
      "execution_count": 72,
      "outputs": [
        {
          "output_type": "execute_result",
          "data": {
            "text/plain": [
              "['LEDTV_LEDTV_UN42M001',\n",
              " 'LEDTV_LEDTV_LEDTV_UN42M002',\n",
              " 'LEDTV_UN42M003',\n",
              " 'LEDTV_UN42M004',\n",
              " 'LEDTV_UN42M005']"
            ]
          },
          "metadata": {},
          "execution_count": 72
        }
      ]
    },
    {
      "cell_type": "markdown",
      "source": [
        "### 디버깅"
      ],
      "metadata": {
        "id": "uzvwuWOzUoMA"
      }
    },
    {
      "cell_type": "code",
      "source": [
        "productList = [\"LEDTV_UN42M001\",\"LEDTV_LEDTV_UN42M002\",\"UN42M003\",\"UN42M004\",\"UN42M005\"]\n",
        "preFix = \"LEDTV_\"\n",
        "i=0\n",
        "# for i in range(0, len(productList) ):\n",
        "# 접두어가 존재하면 pass\n",
        "if productList[i].count(preFix) >= 1:\n",
        "    pass\n",
        "# 접두어가 존재하지 않으면\n",
        "else:\n",
        "    productList[i] =  preFix + productList[i]"
      ],
      "metadata": {
        "id": "XAZo3BiMVEVo"
      },
      "execution_count": 88,
      "outputs": []
    },
    {
      "cell_type": "code",
      "source": [
        "productList"
      ],
      "metadata": {
        "colab": {
          "base_uri": "https://localhost:8080/"
        },
        "id": "if735e88VELd",
        "outputId": "5d918a10-5b8b-44e2-ce10-f7d95fdde55e"
      },
      "execution_count": 91,
      "outputs": [
        {
          "output_type": "execute_result",
          "data": {
            "text/plain": [
              "['LEDTV_UN42M001',\n",
              " 'LEDTV_LEDTV_UN42M002',\n",
              " 'LEDTV_UN42M003',\n",
              " 'LEDTV_UN42M004',\n",
              " 'LEDTV_UN42M005']"
            ]
          },
          "metadata": {},
          "execution_count": 91
        }
      ]
    },
    {
      "cell_type": "code",
      "source": [],
      "metadata": {
        "id": "WZWllGLzVEIn"
      },
      "execution_count": null,
      "outputs": []
    },
    {
      "cell_type": "code",
      "source": [],
      "metadata": {
        "id": "H-Qeqd9GVEF4"
      },
      "execution_count": null,
      "outputs": []
    },
    {
      "cell_type": "code",
      "source": [
        "targetModel.count(preFix) == 0"
      ],
      "metadata": {
        "id": "KGxnURxYIzdL"
      },
      "execution_count": 32,
      "outputs": []
    },
    {
      "cell_type": "code",
      "source": [
        "productList"
      ],
      "metadata": {
        "colab": {
          "base_uri": "https://localhost:8080/"
        },
        "id": "e9ptYjp3JA80",
        "outputId": "69f5b290-334e-4a28-be6c-7784c75fdc61"
      },
      "execution_count": 33,
      "outputs": [
        {
          "output_type": "execute_result",
          "data": {
            "text/plain": [
              "['LEDTV_UN42M001', 'LEDTV_UN42M002', 'LEDTV_UN42M003', 'LEDTV_UN42M004']"
            ]
          },
          "metadata": {},
          "execution_count": 33
        }
      ]
    }
  ]
}