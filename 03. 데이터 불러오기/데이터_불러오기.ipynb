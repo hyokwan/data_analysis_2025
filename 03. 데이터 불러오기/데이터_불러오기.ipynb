{
  "nbformat": 4,
  "nbformat_minor": 0,
  "metadata": {
    "colab": {
      "provenance": []
    },
    "kernelspec": {
      "name": "python3",
      "display_name": "Python 3"
    },
    "language_info": {
      "name": "python"
    }
  },
  "cells": [
    {
      "cell_type": "code",
      "execution_count": 7,
      "metadata": {
        "colab": {
          "base_uri": "https://localhost:8080/"
        },
        "id": "PfroqvnhpdPV",
        "outputId": "0af70706-6cbf-4784-bbbd-aa4fc58a8fee"
      },
      "outputs": [
        {
          "output_type": "stream",
          "name": "stdout",
          "text": [
            "Drive already mounted at /content/gdrive; to attempt to forcibly remount, call drive.mount(\"/content/gdrive\", force_remount=True).\n",
            "/content/gdrive/MyDrive/Colab Notebooks/data_analysis_2025/03. 데이터 불러오기\n"
          ]
        }
      ],
      "source": [
        "# prompt: 구글드라이브 연동해줘\n",
        "\n",
        "from google.colab import drive\n",
        "drive.mount('/content/gdrive')\n",
        "%cd /content/gdrive/MyDrive/Colab Notebooks/data_analysis_2025/03. 데이터 불러오기"
      ]
    },
    {
      "cell_type": "markdown",
      "source": [
        "### 일반 파일 불러오기 (로컬)"
      ],
      "metadata": {
        "id": "96R0u9JwqYN2"
      }
    },
    {
      "cell_type": "code",
      "source": [
        "import pandas as pd"
      ],
      "metadata": {
        "id": "v9Ae1UeTqaFz"
      },
      "execution_count": 8,
      "outputs": []
    },
    {
      "cell_type": "code",
      "source": [
        "csData = pd.read_csv(\"../dataset/customerdata.csv\")"
      ],
      "metadata": {
        "id": "IySbyerLqbPO"
      },
      "execution_count": 10,
      "outputs": []
    },
    {
      "cell_type": "markdown",
      "source": [
        "### github 공유된 파일 불러오는것도 가능하다"
      ],
      "metadata": {
        "id": "v0vqn0TLrAss"
      }
    },
    {
      "cell_type": "code",
      "source": [
        "carDataPath = \"https://raw.githubusercontent.com/hyokwan/python-lecture/refs/heads/master/dataset/cars.csv\""
      ],
      "metadata": {
        "id": "UCoxPkdGtuLp"
      },
      "execution_count": 11,
      "outputs": []
    },
    {
      "cell_type": "code",
      "source": [
        "carsDf = pd.read_csv(carDataPath)"
      ],
      "metadata": {
        "id": "mnZkPCHuuo-2"
      },
      "execution_count": 13,
      "outputs": []
    },
    {
      "cell_type": "markdown",
      "source": [
        "### 공공데이터포털 데이터 불러오기"
      ],
      "metadata": {
        "id": "pDjCoii6u0GN"
      }
    },
    {
      "cell_type": "code",
      "source": [
        "pirPath = \"https://www.data.go.kr/cmm/cmm/fileDownload.do?atchFileId=FILE_000000002999024&fileDetailSn=1&dataNm=%ED%95%9C%EA%B5%AD%EC%A3%BC%ED%83%9D%EA%B8%88%EC%9C%B5%EA%B3%B5%EC%82%AC_%EC%A3%BC%ED%83%9D%EA%B8%88%EC%9C%B5%EA%B4%80%EB%A0%A8%20%EC%A7%80%EC%88%98_20160101\"\n",
        "pirDf = pd.read_csv( pirPath, encoding = \"ms949\" )"
      ],
      "metadata": {
        "id": "3s04GRtcv3H5"
      },
      "execution_count": 15,
      "outputs": []
    },
    {
      "cell_type": "markdown",
      "source": [
        "### 데이터베이스 데이터 불러오기"
      ],
      "metadata": {
        "id": "QIuO0VzJw971"
      }
    },
    {
      "cell_type": "code",
      "source": [
        "## 08:05 스타트"
      ],
      "metadata": {
        "id": "W27fEQdzxDp8"
      },
      "execution_count": null,
      "outputs": []
    }
  ]
}